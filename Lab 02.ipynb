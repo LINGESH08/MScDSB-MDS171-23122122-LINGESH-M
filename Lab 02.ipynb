{
 "cells": [
  {
   "cell_type": "code",
   "execution_count": null,
   "source": [
    "num = [\"Zero\",\"one\",\"Two\",\"Three\",\"four\",\"Five\",\"Six\",\"Seven\",\"Eight\",\"Nine\"]"
   ],
   "outputs": [],
   "metadata": {}
  }
 ],
 "metadata": {
  "orig_nbformat": 4,
  "language_info": {
   "name": "python"
  }
 },
 "nbformat": 4,
 "nbformat_minor": 2
}