{
  "nbformat": 4,
  "nbformat_minor": 0,
  "metadata": {
    "colab": {
      "provenance": [],
      "authorship_tag": "ABX9TyOIXRE5LlQe2dZp1HYTWJl8",
      "include_colab_link": true
    },
    "kernelspec": {
      "name": "python3",
      "display_name": "Python 3"
    },
    "language_info": {
      "name": "python"
    }
  },
  "cells": [
    {
      "cell_type": "markdown",
      "metadata": {
        "id": "view-in-github",
        "colab_type": "text"
      },
      "source": [
        "<a href=\"https://colab.research.google.com/github/LINGESH08/MScDSB-MDS171-23122122-LINGESH-M/blob/main/Lab_01.ipynb\" target=\"_parent\"><img src=\"https://colab.research.google.com/assets/colab-badge.svg\" alt=\"Open In Colab\"/></a>"
      ]
    },
    {
      "cell_type": "code",
      "source": [
        "n1 = input(\"Enter a name: \")\n",
        "n2 = int(input(\"Enter the number of time: \"))\n",
        "output = (n1+\"\\n\")*n2\n",
        "print(output)"
      ],
      "metadata": {
        "colab": {
          "base_uri": "https://localhost:8080/"
        },
        "id": "XT7ch2FuX8PD",
        "outputId": "40343048-46a0-42b9-facc-057bc4f050b3"
      },
      "execution_count": 3,
      "outputs": [
        {
          "output_type": "stream",
          "name": "stdout",
          "text": [
            "Enter a name: LINGESH M\n",
            "Enter the number of time: 6\n",
            "LINGESH M\n",
            "LINGESH M\n",
            "LINGESH M\n",
            "LINGESH M\n",
            "LINGESH M\n",
            "LINGESH M\n",
            "\n"
          ]
        }
      ]
    },
    {
      "cell_type": "code",
      "source": [],
      "metadata": {
        "id": "3SKLbg7vbztT"
      },
      "execution_count": null,
      "outputs": []
    }
  ]
}