{
  "nbformat": 4,
  "nbformat_minor": 0,
  "metadata": {
    "colab": {
      "provenance": [],
      "authorship_tag": "ABX9TyM4TF9vXs8StqSKhSyveAzn",
      "include_colab_link": true
    },
    "kernelspec": {
      "name": "python3",
      "display_name": "Python 3"
    },
    "language_info": {
      "name": "python"
    }
  },
  "cells": [
    {
      "cell_type": "markdown",
      "metadata": {
        "id": "view-in-github",
        "colab_type": "text"
      },
      "source": [
        "<a href=\"https://colab.research.google.com/github/LINGESH08/MScDSB-MDS171-23122122-LINGESH-M/blob/main/Lab_02.ipynb\" target=\"_parent\"><img src=\"https://colab.research.google.com/assets/colab-badge.svg\" alt=\"Open In Colab\"/></a>"
      ]
    },
    {
      "cell_type": "code",
      "execution_count": 4,
      "metadata": {
        "colab": {
          "base_uri": "https://localhost:8080/",
          "height": 69
        },
        "id": "5vmDH-fPbKcJ",
        "outputId": "5780b740-7411-4f23-a143-79835a96c20e"
      },
      "outputs": [
        {
          "name": "stdout",
          "output_type": "stream",
          "text": [
            "Number of places: 2\n",
            "Enter the Value: 98\n"
          ]
        },
        {
          "output_type": "execute_result",
          "data": {
            "text/plain": [
              "'98NineEight'"
            ],
            "application/vnd.google.colaboratory.intrinsic+json": {
              "type": "string"
            }
          },
          "metadata": {},
          "execution_count": 4
        }
      ],
      "source": [
        "n = int(input(\"Number of places: \"))\n",
        "val = str(input(\"Enter the Value: \"))\n",
        "\n",
        "def readVal(val,n):\n",
        "    str = val\n",
        "    for i in range(0,n):\n",
        "        if val[i] == '0':\n",
        "            str= str +\"Zero\"\n",
        "        elif val[i] =='1':\n",
        "            str= str +\"One\"\n",
        "        elif val[i] =='2':\n",
        "            str= str +\"Two\"\n",
        "        elif val[i] =='3':\n",
        "            str= str +\"Three\"\n",
        "        elif val[i] =='4':\n",
        "            str= str +\"Four\"\n",
        "        elif val[i] =='5':\n",
        "            str= str +\"Five\"\n",
        "        elif val[i] =='6':\n",
        "            str= str +\"Six\"\n",
        "        elif val[i] =='7':\n",
        "            str= str +\"Seven\"\n",
        "        elif val[i] =='8':\n",
        "            str= str +\"Eight\"\n",
        "        else:\n",
        "            str= str +\"Nine\"\n",
        "    return str\n",
        "readVal(val,n)"
      ]
    },
    {
      "cell_type": "code",
      "source": [],
      "metadata": {
        "id": "_hqz1FeJcCgD"
      },
      "execution_count": null,
      "outputs": []
    }
  ]
}