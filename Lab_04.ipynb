{
  "cells": [
    {
      "cell_type": "markdown",
      "metadata": {
        "id": "view-in-github",
        "colab_type": "text"
      },
      "source": [
        "<a href=\"https://colab.research.google.com/github/LINGESH08/MScDSB-MDS171-23122122-LINGESH-M/blob/main/Lab_04.ipynb\" target=\"_parent\"><img src=\"https://colab.research.google.com/assets/colab-badge.svg\" alt=\"Open In Colab\"/></a>"
      ]
    },
    {
      "cell_type": "code",
      "execution_count": 4,
      "metadata": {
        "colab": {
          "base_uri": "https://localhost:8080/"
        },
        "id": "efQYmoLbeuCh",
        "outputId": "9595d39c-08f1-408b-ba17-e590db93c5cf"
      },
      "outputs": [
        {
          "name": "stdout",
          "output_type": "stream",
          "text": [
            "Enter the name: LINGESH M\n",
            "Enter the consumer number: 89904363\n",
            "Enter the phone number: 23122122\n",
            "Enter the product: Chicken\n",
            "Enter the price of the product: 130\n"
          ]
        }
      ],
      "source": [
        "def shop(name,consumer,phone,price,product):\n",
        "    filename=\"Order\"+\".txt\"\n",
        "    with open (filename,\"a+\") as file:\n",
        "        file.write(\"\\nName:\"+name)\n",
        "        file.write(\"\\nConsumer_no.:\"+consumer)\n",
        "        file.write(\"\\nPhone_no.:\"+phone)\n",
        "        file.write(\"\\nPrice:$\"+price)\n",
        "        file.write(\"\\nProduct:\"+product)\n",
        "Name=input(\"Enter the name: \")\n",
        "Cons=input(\"Enter the consumer number: \")\n",
        "phone=input(\"Enter the phone number: \")\n",
        "product=input(\"Enter the product: \")\n",
        "price=input(\"Enter the price of the product: \")\n",
        "shop(Name,Cons,phone,price,product)"
      ]
    },
    {
      "cell_type": "code",
      "execution_count": null,
      "metadata": {
        "id": "QPMaSmxDexnk"
      },
      "outputs": [],
      "source": []
    }
  ],
  "metadata": {
    "colab": {
      "provenance": [],
      "authorship_tag": "ABX9TyPElyDP5xporo+rAYxYwv5g",
      "include_colab_link": true
    },
    "kernelspec": {
      "display_name": "Python 3",
      "name": "python3"
    },
    "language_info": {
      "name": "python"
    }
  },
  "nbformat": 4,
  "nbformat_minor": 0
}