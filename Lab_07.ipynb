{
  "nbformat": 4,
  "nbformat_minor": 0,
  "metadata": {
    "colab": {
      "provenance": [],
      "authorship_tag": "ABX9TyODWRty4KuhARZvu8tRxhHD",
      "include_colab_link": true
    },
    "kernelspec": {
      "name": "python3",
      "display_name": "Python 3"
    },
    "language_info": {
      "name": "python"
    }
  },
  "cells": [
    {
      "cell_type": "markdown",
      "metadata": {
        "id": "view-in-github",
        "colab_type": "text"
      },
      "source": [
        "<a href=\"https://colab.research.google.com/github/LINGESH08/MScDSB-MDS171-23122122-LINGESH-M/blob/main/Lab_07.ipynb\" target=\"_parent\"><img src=\"https://colab.research.google.com/assets/colab-badge.svg\" alt=\"Open In Colab\"/></a>"
      ]
    },
    {
      "cell_type": "code",
      "source": [
        "class expenseTracker:\n",
        "    def __init__(self):\n",
        "        self.transactionDetails={\"details\":[]}\n",
        "\n",
        "    def retrieveTransactions(self):\n",
        "        for i in open(\"Expense_Income_Tracker.csv\",\"r+\").readlines():\n",
        "            line=i.split(\",\")\n",
        "            if line[1]!=\"Expense Category\":\n",
        "                transaction={\"type\":line[0],\"category\":line[1],\"amount\":line[2],\"description\":line[3],\"date\":line[4]}\n",
        "                self.transactionDetails[\"details\"].append(transaction)\n",
        "\n",
        "    def calculateTotal(self):\n",
        "        totalIncome=0\n",
        "        totalExpense=0\n",
        "        for i in self.transactionDetails[\"details\"]:\n",
        "            if i[\"type\"]==\"Income\":\n",
        "                totalIncome+=int(i[\"amount\"])\n",
        "            else:\n",
        "                totalExpense+=int(i[\"amount\"])\n",
        "        return totalIncome,totalExpense\n",
        "\n",
        "    def addTransaction(self,type,category,amount,description,date):\n",
        "        transaction={\"type\":type,\"category\":category,\"amount\":amount,\"description\":description,\"date\":date}\n",
        "        self.transactionDetails[\"details\"].append(transaction)\n",
        "\n",
        "    def writeTransactions(self):\n",
        "        file=open(\"Expense_Income_Tracker.csv\",\"w+\")\n",
        "        file.write(\"Type,Expense Category,Amount,Description,Date\\n\")\n",
        "        for i in self.transactionDetails[\"details\"]:\n",
        "            date=str(i[\"date\"]).strip()\n",
        "            file.write(i[\"type\"]+\",\"+i[\"category\"]+\",\"+i[\"amount\"]+\",\"+i[\"description\"]+\",\"+date+\"\\n\")\n",
        "        file.close()\n",
        "\n",
        "\n",
        "order=expenseTracker()\n",
        "order.retrieveTransactions()\n",
        "while True:\n",
        "    print(\"1.Add New Transaction\\n2.Calculate Total Income and Expense\\n3.Exit\")\n",
        "    choice=int(input(\"Select your action:\"))\n",
        "    if choice==1:\n",
        "        type=input(\"Enter the type of transaction (Income/Expense):\")\n",
        "        category=input(\"Enter the category:\")\n",
        "        amount=input(\"Enter the amount:\")\n",
        "        description=input(\"Enter the description of transaction:\")\n",
        "        date=input(\"Enter the date mm/dd/yyyy:\")\n",
        "        order.addTransaction(type,category,amount,description,date)\n",
        "    elif choice==2:\n",
        "        totalIncome,totalExpense=order.calculateTotal()\n",
        "        print(\"Total Income=\",totalIncome,\"\\nTotal Expense=\",totalExpense)\n",
        "        order.writeTransactions()\n",
        "    elif choice==3:\n",
        "        break"
      ],
      "metadata": {
        "colab": {
          "base_uri": "https://localhost:8080/"
        },
        "id": "IhgffHTe_tsu",
        "outputId": "76dca602-048c-47a3-91cc-d9611ec05b20"
      },
      "execution_count": 3,
      "outputs": [
        {
          "name": "stdout",
          "output_type": "stream",
          "text": [
            "1.Add New Transaction\n",
            "2.Calculate Total Income and Expense\n",
            "3.Exit\n",
            "Select your action:1\n",
            "Enter the type of transaction (Income/Expense):1000\n",
            "Enter the category:fuel\n",
            "Enter the amount:3\n",
            "Enter the description of transaction:Hiee\n",
            "Enter the date mm/dd/yyyy:09/10/2023\n",
            "1.Add New Transaction\n",
            "2.Calculate Total Income and Expense\n",
            "3.Exit\n",
            "Select your action:3\n"
          ]
        }
      ]
    },
    {
      "cell_type": "code",
      "source": [],
      "metadata": {
        "id": "DvTj7lLUAChH"
      },
      "execution_count": null,
      "outputs": []
    }
  ]
}