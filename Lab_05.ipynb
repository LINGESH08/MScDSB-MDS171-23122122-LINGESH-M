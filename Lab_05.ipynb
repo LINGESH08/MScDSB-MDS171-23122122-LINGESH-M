{
  "nbformat": 4,
  "nbformat_minor": 0,
  "metadata": {
    "colab": {
      "provenance": [],
      "authorship_tag": "ABX9TyMVZ9NeBSyspVjvcj3QOS+Z",
      "include_colab_link": true
    },
    "kernelspec": {
      "name": "python3",
      "display_name": "Python 3"
    },
    "language_info": {
      "name": "python"
    }
  },
  "cells": [
    {
      "cell_type": "markdown",
      "metadata": {
        "id": "view-in-github",
        "colab_type": "text"
      },
      "source": [
        "<a href=\"https://colab.research.google.com/github/LINGESH08/MScDSB-MDS171-23122122-LINGESH-M/blob/main/Lab_05.ipynb\" target=\"_parent\"><img src=\"https://colab.research.google.com/assets/colab-badge.svg\" alt=\"Open In Colab\"/></a>"
      ]
    },
    {
      "cell_type": "code",
      "execution_count": 39,
      "metadata": {
        "colab": {
          "base_uri": "https://localhost:8080/"
        },
        "id": "_55o5eKAa9lP",
        "outputId": "c50db930-abc6-42bc-f4b8-9e6b1b96fe4a"
      },
      "outputs": [
        {
          "output_type": "stream",
          "name": "stdout",
          "text": [
            "2\n"
          ]
        }
      ],
      "source": [
        "#Print the total count of vowels\n",
        "\n",
        "word = \"lingesh\"\n",
        "vowels = \"aeiou\"\n",
        "\n",
        "count = sum(word.count(vowel) for vowel in vowels)\n",
        "print(count)"
      ]
    },
    {
      "cell_type": "code",
      "source": [
        "# Print each vowel and its count\n",
        "\n",
        "def check_v(string, vowels):\n",
        "    final = [each for each in string if each in vowels]\n",
        "    print(len(final))\n",
        "    print(final)\n",
        "\n",
        "word = \"lingesh\"\n",
        "vowels = \"aeiou\"\n",
        "check_v(word, vowels);"
      ],
      "metadata": {
        "colab": {
          "base_uri": "https://localhost:8080/"
        },
        "id": "0CdL9y3jb4Pu",
        "outputId": "de6d37c3-296a-4c70-dc8c-7bc51b50eec1"
      },
      "execution_count": 40,
      "outputs": [
        {
          "output_type": "stream",
          "name": "stdout",
          "text": [
            "2\n",
            "['i', 'e']\n"
          ]
        }
      ]
    },
    {
      "cell_type": "code",
      "source": [
        "# Calculate the percentage of vowels in the given string\n",
        "\n",
        "word = \"lingesh\"\n",
        "\n",
        "v_count = 0\n",
        "\n",
        "for letters in word:\n",
        "    if letters.lower() in \"aeiou\":\n",
        "        v_count += 1\n",
        "\n",
        "percent_v = (v_count / len(word)) * 100\n",
        "\n",
        "print(f\"Percentage of vowels in word: {percent_v:.1f}%\")\n",
        "\n"
      ],
      "metadata": {
        "colab": {
          "base_uri": "https://localhost:8080/"
        },
        "id": "mwVogQ0qdhfh",
        "outputId": "f4732158-41af-4ff5-93d0-74bf372998d3"
      },
      "execution_count": 43,
      "outputs": [
        {
          "output_type": "stream",
          "name": "stdout",
          "text": [
            "Percentage of vowels in word: 28.6%\n"
          ]
        }
      ]
    },
    {
      "cell_type": "code",
      "source": [],
      "metadata": {
        "id": "W4qpqjMYjtcE"
      },
      "execution_count": null,
      "outputs": []
    }
  ]
}